{
 "cells": [
  {
   "cell_type": "markdown",
   "metadata": {
    "colab_type": "text",
    "id": "epAlo2Q3K8OF"
   },
   "source": [
    "# Clasificación en datasets desbalanceados - Regresión logística"
   ]
  },
  {
   "cell_type": "markdown",
   "metadata": {
    "colab_type": "text",
    "id": "puQ9YKZCK8OH"
   },
   "source": [
    "### Introducción\n",
    "\n",
    "\n",
    "El problema de los datasets desbalanceados ocurre cada vez que por algún motivo las clases que se desean identificar se observan con frecuencia muy diferente. Es una situación que se encuentra en una amplia variedad de problemas de Machine Learning. \n",
    "\n",
    "Existen dos grandes enfoques para abordar datasets que se encuentran desbalanceados:\n",
    "\n",
    "1.  Hacer un resampling de la muestra, para entrenar al algoritmo con proporciones similares de las clases.\n",
    "2.  Incorporar el desbalance a la función de costos del algoritmo para que tenga incentivos a elegir los parámetros que mejor discriminan la clase minoritaria.\n",
    "\n",
    "\n"
   ]
  },
  {
   "cell_type": "markdown",
   "metadata": {
    "colab_type": "text",
    "id": "6S6sXmsSK8OJ"
   },
   "source": [
    "A continuación presentamos un dataset de la empresa americana Lending Club, que se dedica a proveer servicios financieros para distintos segmentos. \n",
    "\n",
    "Vamos a utilizar información abierta del portal de la empresa para intentar predecir cuáles de los créditos terminan en default. Para más información sobre el datset pueden ingresar <a href='https://www.lendingclub.com/info/download-data.action'> aquí </a>"
   ]
  },
  {
   "attachments": {},
   "cell_type": "markdown",
   "metadata": {},
   "source": [
    "### Actualizar scikit-learn e Instalar imbalanced-learn\n",
    "\n",
    "En esta práctica usaremos la librería imbalanced-learn. La instalamos con la siguiente linea:\n",
    "\n",
    "!conda install --yes -c conda-forge imbalanced-learn==0.7\n",
    " \n",
    "Pueden tener problemas con versiones de scikitlearn anteriores a 0.23. Entonces:\n",
    "\n",
    "!conda install scikit-learn==0.23\n",
    "\n",
    "### comentarios JP:\n",
    "- uso scikit-learn 1.2.2\n",
    "- cambio plot_confusion_matrix por ConfusionMatrixDisplay\n",
    "\n",
    "\n",
    "o\n",
    "\n",
    "!conda update scikit-learn"
   ]
  },
  {
   "cell_type": "code",
   "execution_count": 7,
   "metadata": {
    "colab": {},
    "colab_type": "code",
    "id": "p2PHSRoPK8OK"
   },
   "outputs": [],
   "source": [
    "import numpy as np\n",
    "import pandas as pd\n",
    "import matplotlib.pyplot as plt\n",
    "from sklearn.preprocessing import StandardScaler, OneHotEncoder\n",
    "from sklearn.linear_model import LogisticRegression, LogisticRegressionCV\n",
    "from sklearn.model_selection import train_test_split\n",
    "from sklearn.metrics import accuracy_score,ConfusionMatrixDisplay,roc_auc_score, classification_report, confusion_matrix, precision_recall_curve, auc\n",
    "\n",
    "%matplotlib inline"
   ]
  },
  {
   "cell_type": "code",
   "execution_count": 25,
   "metadata": {},
   "outputs": [],
   "source": [
    "# redefino para actualizar version de scikit-learn sin cambiar el código\n",
    "# Esto parece que no sirve\n",
    "plot_confusion_matrix = ConfusionMatrixDisplay\n"
   ]
  },
  {
   "cell_type": "code",
   "execution_count": 28,
   "metadata": {},
   "outputs": [
    {
     "name": "stdout",
     "output_type": "stream",
     "text": [
      "\u001b[1;31mInit signature:\u001b[0m \u001b[0mConfusionMatrixDisplay\u001b[0m\u001b[1;33m(\u001b[0m\u001b[0mconfusion_matrix\u001b[0m\u001b[1;33m,\u001b[0m \u001b[1;33m*\u001b[0m\u001b[1;33m,\u001b[0m \u001b[0mdisplay_labels\u001b[0m\u001b[1;33m=\u001b[0m\u001b[1;32mNone\u001b[0m\u001b[1;33m)\u001b[0m\u001b[1;33m\u001b[0m\u001b[1;33m\u001b[0m\u001b[0m\n",
      "\u001b[1;31mDocstring:\u001b[0m     \n",
      "Confusion Matrix visualization.\n",
      "\n",
      "It is recommend to use\n",
      ":func:`~sklearn.metrics.ConfusionMatrixDisplay.from_estimator` or\n",
      ":func:`~sklearn.metrics.ConfusionMatrixDisplay.from_predictions` to\n",
      "create a :class:`ConfusionMatrixDisplay`. All parameters are stored as\n",
      "attributes.\n",
      "\n",
      "Read more in the :ref:`User Guide <visualizations>`.\n",
      "\n",
      "Parameters\n",
      "----------\n",
      "confusion_matrix : ndarray of shape (n_classes, n_classes)\n",
      "    Confusion matrix.\n",
      "\n",
      "display_labels : ndarray of shape (n_classes,), default=None\n",
      "    Display labels for plot. If None, display labels are set from 0 to\n",
      "    `n_classes - 1`.\n",
      "\n",
      "Attributes\n",
      "----------\n",
      "im_ : matplotlib AxesImage\n",
      "    Image representing the confusion matrix.\n",
      "\n",
      "text_ : ndarray of shape (n_classes, n_classes), dtype=matplotlib Text,             or None\n",
      "    Array of matplotlib axes. `None` if `include_values` is false.\n",
      "\n",
      "ax_ : matplotlib Axes\n",
      "    Axes with confusion matrix.\n",
      "\n",
      "figure_ : matplotlib Figure\n",
      "    Figure containing the confusion matrix.\n",
      "\n",
      "See Also\n",
      "--------\n",
      "confusion_matrix : Compute Confusion Matrix to evaluate the accuracy of a\n",
      "    classification.\n",
      "ConfusionMatrixDisplay.from_estimator : Plot the confusion matrix\n",
      "    given an estimator, the data, and the label.\n",
      "ConfusionMatrixDisplay.from_predictions : Plot the confusion matrix\n",
      "    given the true and predicted labels.\n",
      "\n",
      "Examples\n",
      "--------\n",
      ">>> import matplotlib.pyplot as plt\n",
      ">>> from sklearn.datasets import make_classification\n",
      ">>> from sklearn.metrics import confusion_matrix, ConfusionMatrixDisplay\n",
      ">>> from sklearn.model_selection import train_test_split\n",
      ">>> from sklearn.svm import SVC\n",
      ">>> X, y = make_classification(random_state=0)\n",
      ">>> X_train, X_test, y_train, y_test = train_test_split(X, y,\n",
      "...                                                     random_state=0)\n",
      ">>> clf = SVC(random_state=0)\n",
      ">>> clf.fit(X_train, y_train)\n",
      "SVC(random_state=0)\n",
      ">>> predictions = clf.predict(X_test)\n",
      ">>> cm = confusion_matrix(y_test, predictions, labels=clf.classes_)\n",
      ">>> disp = ConfusionMatrixDisplay(confusion_matrix=cm,\n",
      "...                               display_labels=clf.classes_)\n",
      ">>> disp.plot()\n",
      "<...>\n",
      ">>> plt.show()\n",
      "\u001b[1;31mFile:\u001b[0m           d:\\users\\juanp_schamun\\documents\\gitrepositories\\ceia\\ad\\ceia_analisis_de_datos\\.venv\\lib\\site-packages\\sklearn\\metrics\\_plot\\confusion_matrix.py\n",
      "\u001b[1;31mType:\u001b[0m           type\n",
      "\u001b[1;31mSubclasses:\u001b[0m     "
     ]
    }
   ],
   "source": [
    "ConfusionMatrixDisplay()"
   ]
  },
  {
   "cell_type": "code",
   "execution_count": 8,
   "metadata": {
    "colab": {},
    "colab_type": "code",
    "id": "Ylvmz7hrK8OR"
   },
   "outputs": [],
   "source": [
    "loans = pd.read_csv('loans.csv')"
   ]
  },
  {
   "cell_type": "code",
   "execution_count": 9,
   "metadata": {},
   "outputs": [
    {
     "data": {
      "text/html": [
       "<div>\n",
       "<style scoped>\n",
       "    .dataframe tbody tr th:only-of-type {\n",
       "        vertical-align: middle;\n",
       "    }\n",
       "\n",
       "    .dataframe tbody tr th {\n",
       "        vertical-align: top;\n",
       "    }\n",
       "\n",
       "    .dataframe thead th {\n",
       "        text-align: right;\n",
       "    }\n",
       "</style>\n",
       "<table border=\"1\" class=\"dataframe\">\n",
       "  <thead>\n",
       "    <tr style=\"text-align: right;\">\n",
       "      <th></th>\n",
       "      <th>grade</th>\n",
       "      <th>home_ownership</th>\n",
       "      <th>emp_length_num</th>\n",
       "      <th>sub_grade</th>\n",
       "      <th>short_emp</th>\n",
       "      <th>dti</th>\n",
       "      <th>term</th>\n",
       "      <th>purpose</th>\n",
       "      <th>int_rate</th>\n",
       "      <th>last_delinq_none</th>\n",
       "      <th>last_major_derog_none</th>\n",
       "      <th>revol_util</th>\n",
       "      <th>total_rec_late_fee</th>\n",
       "      <th>payment_inc_ratio</th>\n",
       "      <th>bad_loans</th>\n",
       "    </tr>\n",
       "  </thead>\n",
       "  <tbody>\n",
       "    <tr>\n",
       "      <th>0</th>\n",
       "      <td>B</td>\n",
       "      <td>RENT</td>\n",
       "      <td>11</td>\n",
       "      <td>B2</td>\n",
       "      <td>0</td>\n",
       "      <td>27.65</td>\n",
       "      <td>36 months</td>\n",
       "      <td>credit_card</td>\n",
       "      <td>10.65</td>\n",
       "      <td>1</td>\n",
       "      <td>1</td>\n",
       "      <td>83.7</td>\n",
       "      <td>0.00</td>\n",
       "      <td>8.14350</td>\n",
       "      <td>0</td>\n",
       "    </tr>\n",
       "    <tr>\n",
       "      <th>1</th>\n",
       "      <td>C</td>\n",
       "      <td>RENT</td>\n",
       "      <td>1</td>\n",
       "      <td>C4</td>\n",
       "      <td>1</td>\n",
       "      <td>1.00</td>\n",
       "      <td>60 months</td>\n",
       "      <td>car</td>\n",
       "      <td>15.27</td>\n",
       "      <td>1</td>\n",
       "      <td>1</td>\n",
       "      <td>9.4</td>\n",
       "      <td>0.00</td>\n",
       "      <td>2.39320</td>\n",
       "      <td>1</td>\n",
       "    </tr>\n",
       "    <tr>\n",
       "      <th>2</th>\n",
       "      <td>C</td>\n",
       "      <td>RENT</td>\n",
       "      <td>11</td>\n",
       "      <td>C5</td>\n",
       "      <td>0</td>\n",
       "      <td>8.72</td>\n",
       "      <td>36 months</td>\n",
       "      <td>small_business</td>\n",
       "      <td>15.96</td>\n",
       "      <td>1</td>\n",
       "      <td>1</td>\n",
       "      <td>98.5</td>\n",
       "      <td>0.00</td>\n",
       "      <td>8.25955</td>\n",
       "      <td>0</td>\n",
       "    </tr>\n",
       "    <tr>\n",
       "      <th>3</th>\n",
       "      <td>C</td>\n",
       "      <td>RENT</td>\n",
       "      <td>11</td>\n",
       "      <td>C1</td>\n",
       "      <td>0</td>\n",
       "      <td>20.00</td>\n",
       "      <td>36 months</td>\n",
       "      <td>other</td>\n",
       "      <td>13.49</td>\n",
       "      <td>0</td>\n",
       "      <td>1</td>\n",
       "      <td>21.0</td>\n",
       "      <td>16.97</td>\n",
       "      <td>8.27585</td>\n",
       "      <td>0</td>\n",
       "    </tr>\n",
       "    <tr>\n",
       "      <th>4</th>\n",
       "      <td>A</td>\n",
       "      <td>RENT</td>\n",
       "      <td>4</td>\n",
       "      <td>A4</td>\n",
       "      <td>0</td>\n",
       "      <td>11.20</td>\n",
       "      <td>36 months</td>\n",
       "      <td>wedding</td>\n",
       "      <td>7.90</td>\n",
       "      <td>1</td>\n",
       "      <td>1</td>\n",
       "      <td>28.3</td>\n",
       "      <td>0.00</td>\n",
       "      <td>5.21533</td>\n",
       "      <td>0</td>\n",
       "    </tr>\n",
       "  </tbody>\n",
       "</table>\n",
       "</div>"
      ],
      "text/plain": [
       "  grade home_ownership  emp_length_num sub_grade  short_emp    dti  \\\n",
       "0     B           RENT              11        B2          0  27.65   \n",
       "1     C           RENT               1        C4          1   1.00   \n",
       "2     C           RENT              11        C5          0   8.72   \n",
       "3     C           RENT              11        C1          0  20.00   \n",
       "4     A           RENT               4        A4          0  11.20   \n",
       "\n",
       "         term         purpose  int_rate  last_delinq_none  \\\n",
       "0   36 months     credit_card     10.65                 1   \n",
       "1   60 months             car     15.27                 1   \n",
       "2   36 months  small_business     15.96                 1   \n",
       "3   36 months           other     13.49                 0   \n",
       "4   36 months         wedding      7.90                 1   \n",
       "\n",
       "   last_major_derog_none  revol_util  total_rec_late_fee  payment_inc_ratio  \\\n",
       "0                      1        83.7                0.00            8.14350   \n",
       "1                      1         9.4                0.00            2.39320   \n",
       "2                      1        98.5                0.00            8.25955   \n",
       "3                      1        21.0               16.97            8.27585   \n",
       "4                      1        28.3                0.00            5.21533   \n",
       "\n",
       "   bad_loans  \n",
       "0          0  \n",
       "1          1  \n",
       "2          0  \n",
       "3          0  \n",
       "4          0  "
      ]
     },
     "execution_count": 9,
     "metadata": {},
     "output_type": "execute_result"
    }
   ],
   "source": [
    "loans.head()"
   ]
  },
  {
   "cell_type": "markdown",
   "metadata": {
    "colab_type": "text",
    "id": "aYvvW3HlK8OW"
   },
   "source": [
    "\n",
    "## Análisis exploratorio\n",
    "\n",
    "\n",
    "#### Balance de la clase\n",
    "\n",
    "La clase que vamos a intentar predecir es \"bad loans\" que indica si el préstamo fue pagado a tiempo o no. Observamos que la clase está desbalanceada, la mayoría de los préstamos se pagan a tiempo."
   ]
  },
  {
   "cell_type": "code",
   "execution_count": 10,
   "metadata": {
    "colab": {},
    "colab_type": "code",
    "id": "BlIfUosgK8OY"
   },
   "outputs": [
    {
     "data": {
      "text/plain": [
       "0    0.811185\n",
       "1    0.188815\n",
       "Name: bad_loans, dtype: float64"
      ]
     },
     "execution_count": 10,
     "metadata": {},
     "output_type": "execute_result"
    }
   ],
   "source": [
    "loans['bad_loans'].value_counts(normalize=True)"
   ]
  },
  {
   "cell_type": "markdown",
   "metadata": {
    "colab_type": "text",
    "id": "dinDuG-NVXZR"
   },
   "source": [
    "#### Valores faltantes\n",
    "\n",
    "Inspeccionamos los valores faltantes"
   ]
  },
  {
   "cell_type": "code",
   "execution_count": 11,
   "metadata": {
    "colab": {},
    "colab_type": "code",
    "id": "CKTjtKNkK8O3"
   },
   "outputs": [
    {
     "data": {
      "text/plain": [
       "grade                    0\n",
       "home_ownership           0\n",
       "emp_length_num           0\n",
       "sub_grade                0\n",
       "short_emp                0\n",
       "dti                      0\n",
       "term                     0\n",
       "purpose                  0\n",
       "int_rate                 0\n",
       "last_delinq_none         0\n",
       "last_major_derog_none    0\n",
       "revol_util               0\n",
       "total_rec_late_fee       0\n",
       "payment_inc_ratio        4\n",
       "bad_loans                0\n",
       "dtype: int64"
      ]
     },
     "execution_count": 11,
     "metadata": {},
     "output_type": "execute_result"
    }
   ],
   "source": [
    "loans.isnull().sum()"
   ]
  },
  {
   "cell_type": "markdown",
   "metadata": {},
   "source": [
    "Eliminamos las entradas nulas"
   ]
  },
  {
   "cell_type": "code",
   "execution_count": 12,
   "metadata": {
    "colab": {},
    "colab_type": "code",
    "id": "F45nRKCWK8O_"
   },
   "outputs": [
    {
     "data": {
      "text/plain": [
       "grade                    0\n",
       "home_ownership           0\n",
       "emp_length_num           0\n",
       "sub_grade                0\n",
       "short_emp                0\n",
       "dti                      0\n",
       "term                     0\n",
       "purpose                  0\n",
       "int_rate                 0\n",
       "last_delinq_none         0\n",
       "last_major_derog_none    0\n",
       "revol_util               0\n",
       "total_rec_late_fee       0\n",
       "payment_inc_ratio        0\n",
       "bad_loans                0\n",
       "dtype: int64"
      ]
     },
     "execution_count": 12,
     "metadata": {},
     "output_type": "execute_result"
    }
   ],
   "source": [
    "loans.dropna(inplace=True);\n",
    "loans.reset_index(drop=True,inplace=True)\n",
    "loans.isnull().sum()"
   ]
  },
  {
   "cell_type": "markdown",
   "metadata": {
    "colab_type": "text",
    "id": "89F7zV-_K8PT"
   },
   "source": [
    "## Regresión logística\n",
    "\n",
    "Vamos a utilizar Regresión Logística para predecir la clase bad_loans. "
   ]
  },
  {
   "cell_type": "code",
   "execution_count": 13,
   "metadata": {},
   "outputs": [
    {
     "data": {
      "text/plain": [
       "(122603, 15)"
      ]
     },
     "execution_count": 13,
     "metadata": {},
     "output_type": "execute_result"
    }
   ],
   "source": [
    "loans.shape"
   ]
  },
  {
   "cell_type": "markdown",
   "metadata": {},
   "source": [
    "### Variables dummy\n",
    "\n",
    "Generamos las variables dummies para los datos categóricos. "
   ]
  },
  {
   "cell_type": "code",
   "execution_count": 14,
   "metadata": {
    "colab": {},
    "colab_type": "code",
    "id": "zv5V3VJ8K8PV"
   },
   "outputs": [],
   "source": [
    "# Generamos las variables dummies para los datos categóricos.\n",
    "loans_dummy = pd.get_dummies(loans,drop_first=True);"
   ]
  },
  {
   "cell_type": "code",
   "execution_count": 15,
   "metadata": {},
   "outputs": [
    {
     "data": {
      "text/plain": [
       "emp_length_num              int64\n",
       "short_emp                   int64\n",
       "dti                       float64\n",
       "int_rate                  float64\n",
       "last_delinq_none            int64\n",
       "                           ...   \n",
       "purpose_moving              uint8\n",
       "purpose_other               uint8\n",
       "purpose_small_business      uint8\n",
       "purpose_vacation            uint8\n",
       "purpose_wedding             uint8\n",
       "Length: 65, dtype: object"
      ]
     },
     "execution_count": 15,
     "metadata": {},
     "output_type": "execute_result"
    }
   ],
   "source": [
    "loans_dummy.dtypes"
   ]
  },
  {
   "cell_type": "code",
   "execution_count": 16,
   "metadata": {},
   "outputs": [
    {
     "data": {
      "text/plain": [
       "Index(['grade', 'home_ownership', 'emp_length_num', 'sub_grade', 'short_emp',\n",
       "       'dti', 'term', 'purpose', 'int_rate', 'last_delinq_none',\n",
       "       'last_major_derog_none', 'revol_util', 'total_rec_late_fee',\n",
       "       'payment_inc_ratio', 'bad_loans'],\n",
       "      dtype='object')"
      ]
     },
     "execution_count": 16,
     "metadata": {},
     "output_type": "execute_result"
    }
   ],
   "source": [
    "loans.columns"
   ]
  },
  {
   "cell_type": "code",
   "execution_count": 17,
   "metadata": {},
   "outputs": [
    {
     "data": {
      "text/html": [
       "<div>\n",
       "<style scoped>\n",
       "    .dataframe tbody tr th:only-of-type {\n",
       "        vertical-align: middle;\n",
       "    }\n",
       "\n",
       "    .dataframe tbody tr th {\n",
       "        vertical-align: top;\n",
       "    }\n",
       "\n",
       "    .dataframe thead th {\n",
       "        text-align: right;\n",
       "    }\n",
       "</style>\n",
       "<table border=\"1\" class=\"dataframe\">\n",
       "  <thead>\n",
       "    <tr style=\"text-align: right;\">\n",
       "      <th></th>\n",
       "      <th>grade</th>\n",
       "      <th>home_ownership</th>\n",
       "      <th>emp_length_num</th>\n",
       "      <th>sub_grade</th>\n",
       "      <th>short_emp</th>\n",
       "      <th>dti</th>\n",
       "      <th>term</th>\n",
       "      <th>purpose</th>\n",
       "      <th>int_rate</th>\n",
       "      <th>last_delinq_none</th>\n",
       "      <th>last_major_derog_none</th>\n",
       "      <th>revol_util</th>\n",
       "      <th>total_rec_late_fee</th>\n",
       "      <th>payment_inc_ratio</th>\n",
       "      <th>bad_loans</th>\n",
       "    </tr>\n",
       "  </thead>\n",
       "  <tbody>\n",
       "    <tr>\n",
       "      <th>0</th>\n",
       "      <td>B</td>\n",
       "      <td>RENT</td>\n",
       "      <td>11</td>\n",
       "      <td>B2</td>\n",
       "      <td>0</td>\n",
       "      <td>27.65</td>\n",
       "      <td>36 months</td>\n",
       "      <td>credit_card</td>\n",
       "      <td>10.65</td>\n",
       "      <td>1</td>\n",
       "      <td>1</td>\n",
       "      <td>83.7</td>\n",
       "      <td>0.0</td>\n",
       "      <td>8.14350</td>\n",
       "      <td>0</td>\n",
       "    </tr>\n",
       "    <tr>\n",
       "      <th>1</th>\n",
       "      <td>C</td>\n",
       "      <td>RENT</td>\n",
       "      <td>1</td>\n",
       "      <td>C4</td>\n",
       "      <td>1</td>\n",
       "      <td>1.00</td>\n",
       "      <td>60 months</td>\n",
       "      <td>car</td>\n",
       "      <td>15.27</td>\n",
       "      <td>1</td>\n",
       "      <td>1</td>\n",
       "      <td>9.4</td>\n",
       "      <td>0.0</td>\n",
       "      <td>2.39320</td>\n",
       "      <td>1</td>\n",
       "    </tr>\n",
       "    <tr>\n",
       "      <th>2</th>\n",
       "      <td>C</td>\n",
       "      <td>RENT</td>\n",
       "      <td>11</td>\n",
       "      <td>C5</td>\n",
       "      <td>0</td>\n",
       "      <td>8.72</td>\n",
       "      <td>36 months</td>\n",
       "      <td>small_business</td>\n",
       "      <td>15.96</td>\n",
       "      <td>1</td>\n",
       "      <td>1</td>\n",
       "      <td>98.5</td>\n",
       "      <td>0.0</td>\n",
       "      <td>8.25955</td>\n",
       "      <td>0</td>\n",
       "    </tr>\n",
       "  </tbody>\n",
       "</table>\n",
       "</div>"
      ],
      "text/plain": [
       "  grade home_ownership  emp_length_num sub_grade  short_emp    dti  \\\n",
       "0     B           RENT              11        B2          0  27.65   \n",
       "1     C           RENT               1        C4          1   1.00   \n",
       "2     C           RENT              11        C5          0   8.72   \n",
       "\n",
       "         term         purpose  int_rate  last_delinq_none  \\\n",
       "0   36 months     credit_card     10.65                 1   \n",
       "1   60 months             car     15.27                 1   \n",
       "2   36 months  small_business     15.96                 1   \n",
       "\n",
       "   last_major_derog_none  revol_util  total_rec_late_fee  payment_inc_ratio  \\\n",
       "0                      1        83.7                 0.0            8.14350   \n",
       "1                      1         9.4                 0.0            2.39320   \n",
       "2                      1        98.5                 0.0            8.25955   \n",
       "\n",
       "   bad_loans  \n",
       "0          0  \n",
       "1          1  \n",
       "2          0  "
      ]
     },
     "execution_count": 17,
     "metadata": {},
     "output_type": "execute_result"
    }
   ],
   "source": [
    "loans.head(3)"
   ]
  },
  {
   "cell_type": "markdown",
   "metadata": {},
   "source": [
    "#### Train test split\n"
   ]
  },
  {
   "cell_type": "code",
   "execution_count": 18,
   "metadata": {
    "colab": {},
    "colab_type": "code",
    "id": "qLH7JTwoK8PZ"
   },
   "outputs": [],
   "source": [
    "X_train, X_test, y_train, y_test\\\n",
    "                            = train_test_split(loans_dummy.drop(['bad_loans'], axis=1),\\\n",
    "                                    loans_dummy['bad_loans'],\\\n",
    "                                    stratify = loans_dummy['bad_loans'],\\\n",
    "                                    random_state=0)"
   ]
  },
  {
   "cell_type": "code",
   "execution_count": 19,
   "metadata": {},
   "outputs": [
    {
     "name": "stdout",
     "output_type": "stream",
     "text": [
      "Entrenamiento: (91952, 64)\n",
      "Testeo: (30651, 64)\n",
      "\n",
      "Clases train:\n",
      "0    0.811184\n",
      "1    0.188816\n",
      "Name: bad_loans, dtype: float64\n",
      "\n",
      "Clases test:\n",
      "0    0.811164\n",
      "1    0.188836\n",
      "Name: bad_loans, dtype: float64\n"
     ]
    }
   ],
   "source": [
    "# chequeamos la presencia relativa de cada clase y el tamaño de los datasets\n",
    "print('Entrenamiento:',X_train.shape)\n",
    "print('Testeo:',X_test.shape)\n",
    "print('\\nClases train:')\n",
    "print(y_train.value_counts(normalize=True))\n",
    "print('\\nClases test:')\n",
    "print(y_test.value_counts(normalize=True))"
   ]
  },
  {
   "cell_type": "markdown",
   "metadata": {},
   "source": [
    "### Regresión logística\n",
    "\n",
    "La siguiente función implementa una regresión logística optimizando el hiperparámetro de regularización por cross validation.\n",
    "\n",
    "Luego imprime las métricas principales de evaluación en problemas de clasificación."
   ]
  },
  {
   "cell_type": "code",
   "execution_count": 26,
   "metadata": {},
   "outputs": [],
   "source": [
    "def logistic_regression_report(X_train,X_test,y_train,y_test):\n",
    "    \n",
    "    scaler=StandardScaler()  \n",
    "    \n",
    "    X_train_sc=scaler.fit_transform(X_train) # Estandarizamos los datos     \n",
    "    X_test_sc=scaler.transform(X_test)\n",
    "        \n",
    "    model=LogisticRegressionCV(scoring='f1')\n",
    "    \n",
    "    model.fit(X_train_sc,y_train)\n",
    "    y_pred=model.predict(X_test_sc)\n",
    "    y_proba=model.predict_proba(X_test_sc)\n",
    "    \n",
    "    print(classification_report(y_test,y_pred))\n",
    "    \n",
    "    print('Area bajo la curva ROC:',np.round(roc_auc_score(y_test,y_proba[:,1]),4))\n",
    "    \n",
    "    precision, recall,threshold=precision_recall_curve(y_test,y_proba[:,1]);\n",
    "\n",
    "    print('Area bajo la curva Precision-Recall:',np.round(auc(recall,precision),4))\n",
    "\n",
    "    plot_confusion_matrix(model,X_test_sc,y_test,cmap='Blues');\n",
    "\n",
    "    return\n",
    "    "
   ]
  },
  {
   "cell_type": "code",
   "execution_count": null,
   "metadata": {},
   "outputs": [],
   "source": []
  },
  {
   "cell_type": "code",
   "execution_count": 27,
   "metadata": {},
   "outputs": [
    {
     "name": "stdout",
     "output_type": "stream",
     "text": [
      "              precision    recall  f1-score   support\n",
      "\n",
      "           0       0.81      0.99      0.89     24863\n",
      "           1       0.47      0.02      0.05      5788\n",
      "\n",
      "    accuracy                           0.81     30651\n",
      "   macro avg       0.64      0.51      0.47     30651\n",
      "weighted avg       0.75      0.81      0.73     30651\n",
      "\n",
      "Area bajo la curva ROC: 0.689\n",
      "Area bajo la curva Precision-Recall: 0.3252\n"
     ]
    },
    {
     "ename": "TypeError",
     "evalue": "ConfusionMatrixDisplay.__init__() got an unexpected keyword argument 'cmap'",
     "output_type": "error",
     "traceback": [
      "\u001b[1;31m---------------------------------------------------------------------------\u001b[0m",
      "\u001b[1;31mTypeError\u001b[0m                                 Traceback (most recent call last)",
      "Cell \u001b[1;32mIn[27], line 1\u001b[0m\n\u001b[1;32m----> 1\u001b[0m logistic_regression_report(X_train,X_test,y_train,y_test)\n",
      "Cell \u001b[1;32mIn[26], line 22\u001b[0m, in \u001b[0;36mlogistic_regression_report\u001b[1;34m(X_train, X_test, y_train, y_test)\u001b[0m\n\u001b[0;32m     18\u001b[0m precision, recall,threshold\u001b[39m=\u001b[39mprecision_recall_curve(y_test,y_proba[:,\u001b[39m1\u001b[39m]);\n\u001b[0;32m     20\u001b[0m \u001b[39mprint\u001b[39m(\u001b[39m'\u001b[39m\u001b[39mArea bajo la curva Precision-Recall:\u001b[39m\u001b[39m'\u001b[39m,np\u001b[39m.\u001b[39mround(auc(recall,precision),\u001b[39m4\u001b[39m))\n\u001b[1;32m---> 22\u001b[0m plot_confusion_matrix(model,X_test_sc,y_test,cmap\u001b[39m=\u001b[39;49m\u001b[39m'\u001b[39;49m\u001b[39mBlues\u001b[39;49m\u001b[39m'\u001b[39;49m);\n\u001b[0;32m     24\u001b[0m \u001b[39mreturn\u001b[39;00m\n",
      "\u001b[1;31mTypeError\u001b[0m: ConfusionMatrixDisplay.__init__() got an unexpected keyword argument 'cmap'"
     ]
    }
   ],
   "source": [
    "logistic_regression_report(X_train,X_test,y_train,y_test)"
   ]
  },
  {
   "cell_type": "markdown",
   "metadata": {},
   "source": [
    "Vemos que el modelo tiene una accuracy de 0.81. Los valores de precision y recall nos muestran que el modelo es bueno prediciendo la clase mayoritaria pero es muy malo para la clase minoritaria. "
   ]
  },
  {
   "cell_type": "markdown",
   "metadata": {
    "colab_type": "text",
    "id": "X4jIoxaqK8P0"
   },
   "source": [
    "\n",
    "\n",
    "Vamos a implementar tres posibles soluciones al problema del desbalance de clases:<b> Undersampling, Oversampling, Class weighting</b>\n",
    "\n",
    "Para resamplear los datos utilizaremos la librería <b>imblearn</b>\n",
    "\n"
   ]
  },
  {
   "cell_type": "markdown",
   "metadata": {},
   "source": [
    "## Undersampling\n",
    "\n",
    "\n",
    "Una estrategia posible es entrenar un modelo en un subset de datos con clases balanceadas, descartando casos de la clase mayoritaria. Para esto utilizaremos la clase RandomUnderSampler que samplea observaciones de la clase mayoritaria al azar, con o sin reposición.\n",
    "\n",
    "El hiperparámetro **sampling_strategy** sirve para definir la estrategia de sampleo. La opción 'majority' seleccionará un número de muestras igual al de la clase minoritaria. También se puede pasar un valor numérico entre cero y uno que represnte el ratio entre la clase mayoritaria y la minoritaria.\n",
    "\n",
    "[Documentación](https://imbalanced-learn.readthedocs.io/en/stable/generated/imblearn.under_sampling.RandomUnderSampler.html)"
   ]
  },
  {
   "cell_type": "code",
   "execution_count": null,
   "metadata": {},
   "outputs": [],
   "source": [
    "from imblearn.under_sampling import RandomUnderSampler"
   ]
  },
  {
   "cell_type": "code",
   "execution_count": 22,
   "metadata": {},
   "outputs": [
    {
     "name": "stdout",
     "output_type": "stream",
     "text": [
      "Composición del training set:\n",
      "0    17362\n",
      "1    17362\n",
      "Name: bad_loans, dtype: int64\n",
      "\n",
      "Composición del test set:\n",
      "0    24863\n",
      "1     5788\n",
      "Name: bad_loans, dtype: int64\n"
     ]
    }
   ],
   "source": [
    "undersampler=RandomUnderSampler(sampling_strategy='majority');\n",
    "\n",
    "X_train_us,y_train_us=undersampler.fit_resample(X_train,y_train);\n",
    "\n",
    "print('Composición del training set:')\n",
    "print(y_train_us.value_counts())\n",
    "\n",
    "print('\\nComposición del test set:')\n",
    "print(y_test.value_counts())\n"
   ]
  },
  {
   "cell_type": "code",
   "execution_count": 24,
   "metadata": {},
   "outputs": [
    {
     "name": "stdout",
     "output_type": "stream",
     "text": [
      "              precision    recall  f1-score   support\n",
      "\n",
      "           0       0.89      0.63      0.74     24863\n",
      "           1       0.29      0.65      0.40      5788\n",
      "\n",
      "    accuracy                           0.63     30651\n",
      "   macro avg       0.59      0.64      0.57     30651\n",
      "weighted avg       0.77      0.63      0.67     30651\n",
      "\n",
      "Area bajo la curva ROC: 0.689\n",
      "Area bajo la curva Precision-Recall: 0.3258\n"
     ]
    },
    {
     "ename": "NameError",
     "evalue": "name 'plot_confusion_matrix' is not defined",
     "output_type": "error",
     "traceback": [
      "\u001b[1;31m---------------------------------------------------------------------------\u001b[0m",
      "\u001b[1;31mNameError\u001b[0m                                 Traceback (most recent call last)",
      "Cell \u001b[1;32mIn[24], line 1\u001b[0m\n\u001b[1;32m----> 1\u001b[0m logistic_regression_report(X_train_us, X_test, y_train_us, y_test)\n",
      "Cell \u001b[1;32mIn[20], line 22\u001b[0m, in \u001b[0;36mlogistic_regression_report\u001b[1;34m(X_train, X_test, y_train, y_test)\u001b[0m\n\u001b[0;32m     18\u001b[0m precision, recall,threshold\u001b[39m=\u001b[39mprecision_recall_curve(y_test,y_proba[:,\u001b[39m1\u001b[39m]);\n\u001b[0;32m     20\u001b[0m \u001b[39mprint\u001b[39m(\u001b[39m'\u001b[39m\u001b[39mArea bajo la curva Precision-Recall:\u001b[39m\u001b[39m'\u001b[39m,np\u001b[39m.\u001b[39mround(auc(recall,precision),\u001b[39m4\u001b[39m))\n\u001b[1;32m---> 22\u001b[0m plot_confusion_matrix(model,X_test_sc,y_test,cmap\u001b[39m=\u001b[39m\u001b[39m'\u001b[39m\u001b[39mBlues\u001b[39m\u001b[39m'\u001b[39m);\n\u001b[0;32m     24\u001b[0m \u001b[39mreturn\u001b[39;00m\n",
      "\u001b[1;31mNameError\u001b[0m: name 'plot_confusion_matrix' is not defined"
     ]
    }
   ],
   "source": [
    "logistic_regression_report(X_train_us, X_test, y_train_us, y_test)\n"
   ]
  },
  {
   "cell_type": "markdown",
   "metadata": {},
   "source": [
    "Vemos que el modelo hace un mejor trabajo en reconocer a la clase minoritaria. "
   ]
  },
  {
   "cell_type": "markdown",
   "metadata": {
    "colab_type": "text",
    "id": "DuW5s9npK8P1"
   },
   "source": [
    "## Oversampling"
   ]
  },
  {
   "cell_type": "markdown",
   "metadata": {
    "colab_type": "text",
    "id": "ckQn2V47K8P3"
   },
   "source": [
    "Para aumentar la representación de la clase minoritaria vamos a hacer un oversampling. Una estrategia posible es usar la herramienta RandomOversampler, que funciona de manera análoga a RandomUndersampler. En este caso, el método consiste en samplear observaciones de la clase minoritaria con reposición.\n",
    "\n",
    "El hiperparámetro **sampling_strategy** puede tomar los valores:\n",
    "\n",
    "* 'minority': samplea hasta balancear las clases\n",
    "* número entre 0 y 1: ratio entre las clases mayoritaria y minoritaria\n",
    "\n",
    "[Documentación](https://imbalanced-learn.readthedocs.io/en/stable/generated/imblearn.over_sampling.RandomOverSampler.html)\n"
   ]
  },
  {
   "cell_type": "code",
   "execution_count": 22,
   "metadata": {},
   "outputs": [
    {
     "name": "stdout",
     "output_type": "stream",
     "text": [
      "Composición del training set:\n",
      "1    74590\n",
      "0    74590\n",
      "Name: bad_loans, dtype: int64\n",
      "\n",
      "Composición del test set:\n",
      "0    24863\n",
      "1     5788\n",
      "Name: bad_loans, dtype: int64\n"
     ]
    }
   ],
   "source": [
    "from imblearn.over_sampling import RandomOverSampler\n",
    "\n",
    "oversampler=RandomOverSampler(sampling_strategy='minority');\n",
    "\n",
    "X_train_os,y_train_os=oversampler.fit_resample(X_train,y_train);\n",
    "\n",
    "print('Composición del training set:')\n",
    "print(y_train_os.value_counts())\n",
    "\n",
    "print('\\nComposición del test set:')\n",
    "print(y_test.value_counts())"
   ]
  },
  {
   "cell_type": "code",
   "execution_count": 23,
   "metadata": {},
   "outputs": [
    {
     "name": "stdout",
     "output_type": "stream",
     "text": [
      "              precision    recall  f1-score   support\n",
      "\n",
      "           0       0.88      0.63      0.74     24863\n",
      "           1       0.29      0.65      0.40      5788\n",
      "\n",
      "    accuracy                           0.63     30651\n",
      "   macro avg       0.59      0.64      0.57     30651\n",
      "weighted avg       0.77      0.63      0.67     30651\n",
      "\n",
      "Area bajo la curva ROC: 0.6885\n",
      "Area bajo la curva Precision-Recall: 0.3247\n"
     ]
    },
    {
     "data": {
      "image/png": "[encoded data removed]",
      "text/plain": [
       "<Figure size 432x288 with 2 Axes>"
      ]
     },
     "metadata": {
      "needs_background": "light"
     },
     "output_type": "display_data"
    }
   ],
   "source": [
    "logistic_regression_report(X_train_os,X_test,y_train_os,y_test)"
   ]
  },
  {
   "cell_type": "markdown",
   "metadata": {
    "colab_type": "text",
    "id": "GBiqvT9QK8QQ"
   },
   "source": [
    "## Class weighting\n",
    "\n",
    "Otra técnica que podemos utilizar para corregir el desbalance de los datos es incorporar en la función de costos del algoritmo un mayor peso para los errores de entrenamiento cometidos sobre los puntos de la clase minoritaria. \n",
    "\n",
    "La regresión logística admite el argumento \"class_weight\" para ponderar la contribución a la función de costo de cada clase. Si usamos class_weight = 'balanced' los pesos asignados son la inversa de la frecuencia con que se observa cada clase.\n"
   ]
  },
  {
   "cell_type": "code",
   "execution_count": 24,
   "metadata": {
    "colab": {},
    "colab_type": "code",
    "id": "j8ZXAmXcK8QR"
   },
   "outputs": [],
   "source": [
    "model = LogisticRegressionCV(class_weight = 'balanced')\n",
    "\n",
    "scaler=StandardScaler()\n",
    "\n",
    "X_train_sc=scaler.fit_transform(X_train);\n",
    "X_test_sc=scaler.transform(X_test);\n",
    "\n",
    "model.fit(X_train_sc,y_train)\n",
    "y_pred = model.predict(X_test_sc)\n",
    "pred_probas = model.predict_proba(X_test_sc);"
   ]
  },
  {
   "cell_type": "code",
   "execution_count": 25,
   "metadata": {
    "colab": {},
    "colab_type": "code",
    "id": "j8ZXAmXcK8QR"
   },
   "outputs": [
    {
     "name": "stdout",
     "output_type": "stream",
     "text": [
      "              precision    recall  f1-score   support\n",
      "\n",
      "           0       0.88      0.64      0.74     24863\n",
      "           1       0.29      0.64      0.40      5788\n",
      "\n",
      "    accuracy                           0.64     30651\n",
      "   macro avg       0.59      0.64      0.57     30651\n",
      "weighted avg       0.77      0.64      0.68     30651\n",
      "\n",
      "Area bajo la curva ROC: 0.6866497653860503\n",
      "Area bajo la curva Precision-Recall: 0.32409089241254496\n"
     ]
    },
    {
     "data": {
      "image/png": "[encoded data removed]",
      "text/plain": [
       "<Figure size 432x288 with 2 Axes>"
      ]
     },
     "metadata": {
      "needs_background": "light"
     },
     "output_type": "display_data"
    }
   ],
   "source": [
    "print(classification_report(y_test,y_pred))\n",
    "plot_confusion_matrix(model,X_test_sc,y_test,cmap='Blues');\n",
    "\n",
    "print('Area bajo la curva ROC:',roc_auc_score(y_test,pred_probas[:,1]))\n",
    "\n",
    "precision, recall,threshold=precision_recall_curve(y_test,pred_probas[:,1]);\n",
    "\n",
    "print('Area bajo la curva Precision-Recall:',auc(recall,precision))"
   ]
  }
 ],
 "metadata": {
  "colab": {
   "collapsed_sections": [],
   "name": "2.Practica_Guiada_Datasets_Desbalanceados.ipynb",
   "provenance": [],
   "version": "0.3.2"
  },
  "kernelspec": {
   "display_name": "Python 3.8.13 ('pycaret2')",
   "language": "python",
   "name": "python3"
  },
  "language_info": {
   "codemirror_mode": {
    "name": "ipython",
    "version": 3
   },
   "file_extension": ".py",
   "mimetype": "text/x-python",
   "name": "python",
   "nbconvert_exporter": "python",
   "pygments_lexer": "ipython3",
   "version": "3.11.2"
  },
  "vscode": {
   "interpreter": {
    "hash": "33b7e6f42d5c92d6b814a1f6cf038b869e4ed5abed6f4d7226a210bd44c06fed"
   }
  }
 },
 "nbformat": 4,
 "nbformat_minor": 4
}
